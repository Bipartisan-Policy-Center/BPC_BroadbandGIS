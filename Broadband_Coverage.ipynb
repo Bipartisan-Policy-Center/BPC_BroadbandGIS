{
 "metadata": {
  "language_info": {
   "codemirror_mode": {
    "name": "ipython",
    "version": 3
   },
   "file_extension": ".py",
   "mimetype": "text/x-python",
   "name": "python",
   "nbconvert_exporter": "python",
   "pygments_lexer": "ipython3",
   "version": "3.9.4"
  },
  "orig_nbformat": 2,
  "kernelspec": {
   "name": "python394jvsc74a57bd0907b5ce190b9b1586f1c8d1d54b9503ac3cb4c6f6da43321f60df12c1a651391",
   "display_name": "Python 3.9.4 64-bit ('BPC')"
  },
  "metadata": {
   "interpreter": {
    "hash": "907b5ce190b9b1586f1c8d1d54b9503ac3cb4c6f6da43321f60df12c1a651391"
   }
  }
 },
 "nbformat": 4,
 "nbformat_minor": 2,
 "cells": [
  {
   "source": [
    "## BPC Broadband Spatial Visualization Tool"
   ],
   "cell_type": "markdown",
   "metadata": {}
  },
  {
   "source": [
    "Due to memory limits, it makes sense to do states (or individual counties/blocks/etc) one my one, potentially merging for final visualization nationwide. I will start here with Santa Cruz county, as it has a nice mix of urban and rural blockgroups varying in size. "
   ],
   "cell_type": "markdown",
   "metadata": {}
  },
  {
   "cell_type": "code",
   "execution_count": 10,
   "metadata": {},
   "outputs": [
    {
     "output_type": "stream",
     "name": "stderr",
     "text": [
      "WARNING:root:Requests made without an app_token will be subject to strict throttling limits.\n"
     ]
    }
   ],
   "source": [
    "import pandas as pd\n",
    "from sodapy import Socrata\n",
    "import sklearn\n",
    "\n",
    "client = Socrata(\"opendata.fcc.gov\", None)\n",
    "blockcode_prefix = '06087' #Santa Cruz County, CA\n",
    "\n",
    "# https://opendata.fcc.gov/Wireline/Fixed-Broadband-Deployment-Data-Jun-2019-Status-V2/c67e-jknh\n",
    "# June 2019 FCC form 477 data, the last dataset where contractual downspeed is reported\n",
    "\n",
    "results = client.get(\"c67e-jknh\", where=\"starts_with(blockcode, '{}')\".format(blockcode_prefix))\n",
    "\n",
    "# Convert to pandas DataFrame\n",
    "fcc_df = pd.DataFrame.from_records(results)\n"
   ]
  },
  {
   "cell_type": "code",
   "execution_count": 11,
   "metadata": {},
   "outputs": [
    {
     "output_type": "execute_result",
     "data": {
      "text/plain": [
       "   logrecno provider_id         frn                       providername  \\\n",
       "0  43635971       61431  0001568880            GCI Communication Corp.   \n",
       "1  19224101       51689  0018525139                  Cruzio Media Inc.   \n",
       "2  24758728       53458  0003768165  COMCAST CABLE COMMUNICATIONS, LLC   \n",
       "3  31899746       58057  0001551530                    AT&T California   \n",
       "4  45017250       53601  0018756155                  VSAT Systems, LLC   \n",
       "\n",
       "                   dbaname    holdingcompanyname hoconum  \\\n",
       "0  GCI Communication Corp.      GCI Holdings LLC  130534   \n",
       "1          Cruzio Internet  Cruzio Holdings, LLC  300043   \n",
       "2                  Comcast   Comcast Corporation  130317   \n",
       "3          AT&T California             AT&T Inc.  130077   \n",
       "4               Skycasters     VSAT Systems, LLC  300167   \n",
       "\n",
       "              hocofinal stateabbr        blockcode techcode consumer  \\\n",
       "0      GCI Holdings LLC        CA  060871206002010       60        0   \n",
       "1  Cruzio Holdings, LLC        CA  060871231002009       70        1   \n",
       "2   Comcast Corporation        CA  060871101004010       43        1   \n",
       "3             AT&T Inc.        CA  060871203022007       10        1   \n",
       "4     VSAT Systems, LLC        CA  060871011002010       60        1   \n",
       "\n",
       "  maxaddown maxadup business maxcirdown maxcirup  \n",
       "0         0       0        1          0        0  \n",
       "1        30      30        1          0        0  \n",
       "2       400      10        1          0        0  \n",
       "3         6   0.512        0          0        0  \n",
       "4         2     1.3        1          0        0  "
      ],
      "text/html": "<div>\n<style scoped>\n    .dataframe tbody tr th:only-of-type {\n        vertical-align: middle;\n    }\n\n    .dataframe tbody tr th {\n        vertical-align: top;\n    }\n\n    .dataframe thead th {\n        text-align: right;\n    }\n</style>\n<table border=\"1\" class=\"dataframe\">\n  <thead>\n    <tr style=\"text-align: right;\">\n      <th></th>\n      <th>logrecno</th>\n      <th>provider_id</th>\n      <th>frn</th>\n      <th>providername</th>\n      <th>dbaname</th>\n      <th>holdingcompanyname</th>\n      <th>hoconum</th>\n      <th>hocofinal</th>\n      <th>stateabbr</th>\n      <th>blockcode</th>\n      <th>techcode</th>\n      <th>consumer</th>\n      <th>maxaddown</th>\n      <th>maxadup</th>\n      <th>business</th>\n      <th>maxcirdown</th>\n      <th>maxcirup</th>\n    </tr>\n  </thead>\n  <tbody>\n    <tr>\n      <th>0</th>\n      <td>43635971</td>\n      <td>61431</td>\n      <td>0001568880</td>\n      <td>GCI Communication Corp.</td>\n      <td>GCI Communication Corp.</td>\n      <td>GCI Holdings LLC</td>\n      <td>130534</td>\n      <td>GCI Holdings LLC</td>\n      <td>CA</td>\n      <td>060871206002010</td>\n      <td>60</td>\n      <td>0</td>\n      <td>0</td>\n      <td>0</td>\n      <td>1</td>\n      <td>0</td>\n      <td>0</td>\n    </tr>\n    <tr>\n      <th>1</th>\n      <td>19224101</td>\n      <td>51689</td>\n      <td>0018525139</td>\n      <td>Cruzio Media Inc.</td>\n      <td>Cruzio Internet</td>\n      <td>Cruzio Holdings, LLC</td>\n      <td>300043</td>\n      <td>Cruzio Holdings, LLC</td>\n      <td>CA</td>\n      <td>060871231002009</td>\n      <td>70</td>\n      <td>1</td>\n      <td>30</td>\n      <td>30</td>\n      <td>1</td>\n      <td>0</td>\n      <td>0</td>\n    </tr>\n    <tr>\n      <th>2</th>\n      <td>24758728</td>\n      <td>53458</td>\n      <td>0003768165</td>\n      <td>COMCAST CABLE COMMUNICATIONS, LLC</td>\n      <td>Comcast</td>\n      <td>Comcast Corporation</td>\n      <td>130317</td>\n      <td>Comcast Corporation</td>\n      <td>CA</td>\n      <td>060871101004010</td>\n      <td>43</td>\n      <td>1</td>\n      <td>400</td>\n      <td>10</td>\n      <td>1</td>\n      <td>0</td>\n      <td>0</td>\n    </tr>\n    <tr>\n      <th>3</th>\n      <td>31899746</td>\n      <td>58057</td>\n      <td>0001551530</td>\n      <td>AT&amp;T California</td>\n      <td>AT&amp;T California</td>\n      <td>AT&amp;T Inc.</td>\n      <td>130077</td>\n      <td>AT&amp;T Inc.</td>\n      <td>CA</td>\n      <td>060871203022007</td>\n      <td>10</td>\n      <td>1</td>\n      <td>6</td>\n      <td>0.512</td>\n      <td>0</td>\n      <td>0</td>\n      <td>0</td>\n    </tr>\n    <tr>\n      <th>4</th>\n      <td>45017250</td>\n      <td>53601</td>\n      <td>0018756155</td>\n      <td>VSAT Systems, LLC</td>\n      <td>Skycasters</td>\n      <td>VSAT Systems, LLC</td>\n      <td>300167</td>\n      <td>VSAT Systems, LLC</td>\n      <td>CA</td>\n      <td>060871011002010</td>\n      <td>60</td>\n      <td>1</td>\n      <td>2</td>\n      <td>1.3</td>\n      <td>1</td>\n      <td>0</td>\n      <td>0</td>\n    </tr>\n  </tbody>\n</table>\n</div>"
     },
     "metadata": {},
     "execution_count": 11
    }
   ],
   "source": [
    "fcc_df.head()"
   ]
  },
  {
   "cell_type": "code",
   "execution_count": 12,
   "metadata": {},
   "outputs": [
    {
     "output_type": "execute_result",
     "data": {
      "text/plain": [
       "Index(['logrecno', 'provider_id', 'frn', 'providername', 'dbaname',\n",
       "       'holdingcompanyname', 'hoconum', 'hocofinal', 'stateabbr', 'blockcode',\n",
       "       'techcode', 'consumer', 'maxaddown', 'maxadup', 'business',\n",
       "       'maxcirdown', 'maxcirup'],\n",
       "      dtype='object')"
      ]
     },
     "metadata": {},
     "execution_count": 12
    }
   ],
   "source": [
    "fcc_df.columns"
   ]
  },
  {
   "cell_type": "code",
   "execution_count": 13,
   "metadata": {},
   "outputs": [],
   "source": [
    "# from https://www.census.gov/cgi-bin/geo/shapefiles/index.php?year=2020&layergroup=Blocks+%282020%29\n",
    "# note that these data came from the Block 2010 dropdown... not sure if they are wrong (2020) or are just mislabelled.\n",
    "import geopandas as gpd\n",
    "boundaries = gpd.read_file('tl_2020_06_tabblock10/tl_2020_06_tabblock10.shp')\n",
    "# todo: these block tables are available via ftp - can we use wget to download them in a reproducible script (caching those that we have already locally)?"
   ]
  },
  {
   "cell_type": "code",
   "execution_count": 14,
   "metadata": {},
   "outputs": [
    {
     "output_type": "execute_result",
     "data": {
      "text/plain": [
       "  STATEFP10 COUNTYFP10 TRACTCE10 BLOCKCE10          GEOID10      NAME10  \\\n",
       "0        06        053    990000      0022  060539900000022  Block 0022   \n",
       "1        06        079    010300      2197  060790103002197  Block 2197   \n",
       "2        06        065    041004      3010  060650410043010  Block 3010   \n",
       "3        06        089    012601      3229  060890126013229  Block 3229   \n",
       "4        06        019    005801      2007  060190058012007  Block 2007   \n",
       "\n",
       "  MTFCC10 UR10 UACE10 UATYPE FUNCSTAT10  ALAND10  AWATER10   INTPTLAT10  \\\n",
       "0   G5040    R   None   None          S        0    108813  +36.6198060   \n",
       "1   G5040    R   None   None          S        0     19728  +35.5682413   \n",
       "2   G5040    U  75340      U          S        0    112115  +33.9655123   \n",
       "3   G5040    R   None   None          S        0      8625  +40.5745994   \n",
       "4   G5040    U  31843      U          S    38373     34575  +36.7951899   \n",
       "\n",
       "     INTPTLON10                                           geometry  \n",
       "0  -121.8656872  POLYGON ((-121.87047 36.62428, -121.86566 36.6...  \n",
       "1  -120.5463575  POLYGON ((-120.54670 35.56806, -120.54670 35.5...  \n",
       "2  -117.4800790  POLYGON ((-117.50185 33.97037, -117.50095 33.9...  \n",
       "3  -122.1339493  POLYGON ((-122.14140 40.57102, -122.14100 40.5...  \n",
       "4  -119.6870846  POLYGON ((-119.69096 36.79703, -119.69088 36.7...  "
      ],
      "text/html": "<div>\n<style scoped>\n    .dataframe tbody tr th:only-of-type {\n        vertical-align: middle;\n    }\n\n    .dataframe tbody tr th {\n        vertical-align: top;\n    }\n\n    .dataframe thead th {\n        text-align: right;\n    }\n</style>\n<table border=\"1\" class=\"dataframe\">\n  <thead>\n    <tr style=\"text-align: right;\">\n      <th></th>\n      <th>STATEFP10</th>\n      <th>COUNTYFP10</th>\n      <th>TRACTCE10</th>\n      <th>BLOCKCE10</th>\n      <th>GEOID10</th>\n      <th>NAME10</th>\n      <th>MTFCC10</th>\n      <th>UR10</th>\n      <th>UACE10</th>\n      <th>UATYPE</th>\n      <th>FUNCSTAT10</th>\n      <th>ALAND10</th>\n      <th>AWATER10</th>\n      <th>INTPTLAT10</th>\n      <th>INTPTLON10</th>\n      <th>geometry</th>\n    </tr>\n  </thead>\n  <tbody>\n    <tr>\n      <th>0</th>\n      <td>06</td>\n      <td>053</td>\n      <td>990000</td>\n      <td>0022</td>\n      <td>060539900000022</td>\n      <td>Block 0022</td>\n      <td>G5040</td>\n      <td>R</td>\n      <td>None</td>\n      <td>None</td>\n      <td>S</td>\n      <td>0</td>\n      <td>108813</td>\n      <td>+36.6198060</td>\n      <td>-121.8656872</td>\n      <td>POLYGON ((-121.87047 36.62428, -121.86566 36.6...</td>\n    </tr>\n    <tr>\n      <th>1</th>\n      <td>06</td>\n      <td>079</td>\n      <td>010300</td>\n      <td>2197</td>\n      <td>060790103002197</td>\n      <td>Block 2197</td>\n      <td>G5040</td>\n      <td>R</td>\n      <td>None</td>\n      <td>None</td>\n      <td>S</td>\n      <td>0</td>\n      <td>19728</td>\n      <td>+35.5682413</td>\n      <td>-120.5463575</td>\n      <td>POLYGON ((-120.54670 35.56806, -120.54670 35.5...</td>\n    </tr>\n    <tr>\n      <th>2</th>\n      <td>06</td>\n      <td>065</td>\n      <td>041004</td>\n      <td>3010</td>\n      <td>060650410043010</td>\n      <td>Block 3010</td>\n      <td>G5040</td>\n      <td>U</td>\n      <td>75340</td>\n      <td>U</td>\n      <td>S</td>\n      <td>0</td>\n      <td>112115</td>\n      <td>+33.9655123</td>\n      <td>-117.4800790</td>\n      <td>POLYGON ((-117.50185 33.97037, -117.50095 33.9...</td>\n    </tr>\n    <tr>\n      <th>3</th>\n      <td>06</td>\n      <td>089</td>\n      <td>012601</td>\n      <td>3229</td>\n      <td>060890126013229</td>\n      <td>Block 3229</td>\n      <td>G5040</td>\n      <td>R</td>\n      <td>None</td>\n      <td>None</td>\n      <td>S</td>\n      <td>0</td>\n      <td>8625</td>\n      <td>+40.5745994</td>\n      <td>-122.1339493</td>\n      <td>POLYGON ((-122.14140 40.57102, -122.14100 40.5...</td>\n    </tr>\n    <tr>\n      <th>4</th>\n      <td>06</td>\n      <td>019</td>\n      <td>005801</td>\n      <td>2007</td>\n      <td>060190058012007</td>\n      <td>Block 2007</td>\n      <td>G5040</td>\n      <td>U</td>\n      <td>31843</td>\n      <td>U</td>\n      <td>S</td>\n      <td>38373</td>\n      <td>34575</td>\n      <td>+36.7951899</td>\n      <td>-119.6870846</td>\n      <td>POLYGON ((-119.69096 36.79703, -119.69088 36.7...</td>\n    </tr>\n  </tbody>\n</table>\n</div>"
     },
     "metadata": {},
     "execution_count": 14
    }
   ],
   "source": [
    "boundaries.head()"
   ]
  },
  {
   "cell_type": "code",
   "execution_count": null,
   "metadata": {},
   "outputs": [],
   "source": []
  }
 ]
}